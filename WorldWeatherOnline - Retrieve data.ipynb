!import urllib.request
!pip install wwo_hist
from wwo_hist import retrieve_hist_data
from urllib import request
import urllib.request
import pandas as pd
frequency= 24 #record each 4 hours, input number for frequency you want
start_date = '10-21-2021' #input start date here
end_date =  '10-30-2023' #input end date here
api_key = 'c6342cd4ab6e459a9d715523240904' #replacing every months
location_list = ['Espirito-Santo']
#,'Lam-pung','Hainan']#'Karnataka','hainan','buon-me-thuot','Espirito-Santo','gia-nghia','binh-phuoc','dong-nai','vung-tau', 'gia-lai']#['karnataka']#'karnataka','hainan','gia-nghia','buon-me-thuot']#'Kerala'#'Kaduna']#'gia-nghia']#'Madikeri']#'gia-nghia']#'Bangalore']#'kotabumi','castanhal','Haikou'] #,'buon-me-thuot'] #input location name here #refer name in hyperlink. https://www.worldweatheronline.com/buon-bubo-dak-nong-weather-history/vn.aspx
#'buon-me-thuot','gia-nghia','binh-phuoc','dong-nai','br-vt', 'gia-lai'
hist_weather_data = retrieve_hist_data(api_key,
                                location_list,
                                start_date,
                                end_date,
                                frequency,
                                location_label = False,
                                export_csv = True,
                                store_df = True)

