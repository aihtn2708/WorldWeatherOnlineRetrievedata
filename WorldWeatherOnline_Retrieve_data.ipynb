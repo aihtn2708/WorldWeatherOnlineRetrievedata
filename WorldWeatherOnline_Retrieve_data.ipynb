{
  "nbformat": 4,
  "nbformat_minor": 0,
  "metadata": {
    "colab": {
      "provenance": [],
      "authorship_tag": "ABX9TyM31bzoRiWkQl+Yv9DMyq9C",
      "include_colab_link": true
    },
    "kernelspec": {
      "name": "python3",
      "display_name": "Python 3"
    },
    "language_info": {
      "name": "python"
    }
  },
  "cells": [
    {
      "cell_type": "markdown",
      "metadata": {
        "id": "view-in-github",
        "colab_type": "text"
      },
      "source": [
        "<a href=\"https://colab.research.google.com/github/aihtn2708/WorldWeatherOnlineRetrievedata/blob/main/WorldWeatherOnline_Retrieve_data.ipynb\" target=\"_parent\"><img src=\"https://colab.research.google.com/assets/colab-badge.svg\" alt=\"Open In Colab\"/></a>"
      ]
    },
    {
      "cell_type": "code",
      "execution_count": null,
      "metadata": {
        "id": "rGFvKg146je6"
      },
      "outputs": [],
      "source": [
        "!import urllib.request\n",
        "!pip install wwo_hist\n",
        "from wwo_hist import retrieve_hist_data\n",
        "from urllib import request\n",
        "import urllib.request\n",
        "import pandas as pd\n",
        "frequency= 24 #record each 24 hours, input number for frequency you want\n",
        "start_date = '10-21-2021' #input start date here\n",
        "end_date =  '10-30-2023' #input end date here\n",
        "api_key = 'c6342cd4ab6e459a9d715523240904' #replacing every months\n",
        "location_list = ['Espirito-Santo']\n",
        "#,'Lam-pung','Hainan']#'Karnataka','hainan','buon-me-thuot','Espirito-Santo','gia-nghia','binh-phuoc','dong-nai','vung-tau', 'gia-lai']#['karnataka']#'karnataka','hainan','gia-nghia','buon-me-thuot']#'Kerala'#'Kaduna']#'gia-nghia']#'Madikeri']#'gia-nghia']#'Bangalore']#'kotabumi','castanhal','Haikou'] #,'buon-me-thuot'] #input location name here #refer name in hyperlink. https://www.worldweatheronline.com/buon-bubo-dak-nong-weather-history/vn.aspx\n",
        "#'buon-me-thuot','gia-nghia','binh-phuoc','dong-nai','br-vt', 'gia-lai'\n",
        "hist_weather_data = retrieve_hist_data(api_key,\n",
        "                                location_list,\n",
        "                                start_date,\n",
        "                                end_date,\n",
        "                                frequency,\n",
        "                                location_label = False,\n",
        "                                export_csv = True,\n",
        "                                store_df = True)\n",
        "\n"
      ]
    },
    {
      "cell_type": "code",
      "source": [
        "df = pd.read_csv('Espirito-Santo.csv')\n",
        "print(df['precipMM'].sum())"
      ],
      "metadata": {
        "id": "JjsmD21N6zLJ"
      },
      "execution_count": null,
      "outputs": []
    },
    {
      "cell_type": "code",
      "source": [
        "from google.colab import drive\n",
        "drive.mount('/content/drive')"
      ],
      "metadata": {
        "id": "RITEUqTX6-7C"
      },
      "execution_count": null,
      "outputs": []
    },
    {
      "cell_type": "code",
      "source": [
        "# Copying folders, format: !rsync -r --progress source_path destination_path\n",
        "!rsync -r --progress \"./model\" \"/content/drive/My Drive/Colab Notebooks/my-project/model\"\n",
        "\n",
        "!cp *.csv \"/content/drive/My Drive/weatherapi\""
      ],
      "metadata": {
        "id": "UhcN2uRh7CVl"
      },
      "execution_count": null,
      "outputs": []
    },
    {
      "cell_type": "code",
      "source": [
        "!zip -r file.zip /content/"
      ],
      "metadata": {
        "id": "ObUPQwTm7E0v"
      },
      "execution_count": null,
      "outputs": []
    }
  ]
}